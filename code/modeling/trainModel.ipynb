{
 "cells": [
  {
   "cell_type": "code",
   "execution_count": null,
   "metadata": {},
   "outputs": [],
   "source": [
    "# Import packages\n",
    "\n",
    "import pandas as pd\n",
    "import numpy as np\n",
    "import keras\n",
    "from keras.models import Sequential\n",
    "from keras.layers import Dense, Dropout, Flatten\n",
    "from keras.layers import Conv2D, MaxPooling2D\n",
    "from keras.preprocessing import image\n",
    "from keras.callbacks import EarlyStopping\n",
    "from keras.callbacks import ModelCheckpoint\n",
    "from keras.preprocessing.image import ImageDataGenerator\n",
    "from tqdm import tqdm\n",
    "import tensorflow as tf\n",
    "import matplotlib.pyplot as plt\n",
    "from keras import models\n",
    "from keras import layers\n",
    "from keras import optimizers\n",
    "from PIL import Image\n",
    "import sklearn\n",
    "from sklearn.model_selection import train_test_split\n",
    "from statistics import mean\n",
    "import unidecode\n"
   ]
  },
  {
   "cell_type": "code",
   "execution_count": null,
   "metadata": {},
   "outputs": [],
   "source": [
    "# Function to process and arrange image data\n",
    "def arrange_data(df):\n",
    "    \n",
    "    image_data = []\n",
    "    img_paths = np.asarray(df.iloc[:, 0]) #First column is the image paths\n",
    "    \n",
    "    for i in tqdm(range(len(img_paths))):\n",
    "    \n",
    "            \n",
    "        img = tf.keras.utils.load_img(img_paths[i],target_size=(200, 150, 3))\n",
    "        img = tf.keras.utils.img_to_array(img)\n",
    "        img = img/255\n",
    "        image_data.append(img)\n",
    "        \n",
    "        \n",
    "    X = np.array(image_data)\n",
    "    Y = np.array(df.iloc[:,1:7])\n",
    "    \n",
    "    print(\"Shape of images:\", X.shape)\n",
    "    print(\"Shape of labels:\", Y.shape)\n",
    "    \n",
    "    return X, Y\n",
    "\n",
    "\n",
    "train_df = pd.read_csv('INSERT_FILEPATH_HERE/trainingData.csv')\n",
    "\n",
    "# Modifying image path column\n",
    "train_df['Image Path'] = train_df['Image Path'].str.replace('INSERT_FILEPATH_HERE','')\n",
    "train_df['Image Path'] = train_df['Image Path'].str.replace('/images','')\n",
    "\n",
    "X_train, Y_train = arrange_data(train_df)\n",
    "\n",
    "test_df = pd.read_csv('testingData.csv')\n",
    "\n",
    "test_df['Image Path'] = test_df['Image Path'].str.replace('INSERT_FILEPATH_HERE','')\n",
    "test_df['Image Path'] = test_df['Image Path'].str.replace('/images','')\n",
    "\n",
    "X_test, Y_test = arrange_data(test_df)"
   ]
  },
  {
   "cell_type": "code",
   "execution_count": null,
   "metadata": {},
   "outputs": [],
   "source": [
    "num_classes = 6  # Number of genres\n",
    "\n",
    "# Import architecture\n",
    "from keras.applications import VGG16\n",
    "\n",
    "# Load VGG model\n",
    "vgg_conv = VGG16(weights='imagenet', include_top=False, input_shape=(200,150, 3))\n",
    "\n",
    "# Freeze the layers except the last 4 layers\n",
    "for layer in vgg_conv.layers[:-4]:\n",
    "    layer.trainable = False\n",
    "\n",
    "# Create model\n",
    "model = models.Sequential()\n",
    "\n",
    "# Add the vgg convolutional base model\n",
    "model.add(vgg_conv)\n",
    "\n",
    "# Add layers\n",
    "model.add(layers.Flatten())\n",
    "model.add(layers.Dense(1024, activation='relu'))\n",
    "model.add(layers.Dropout(0.5))\n",
    "model.add(layers.Dense(num_classes, activation='sigmoid'))\n",
    "\n",
    "# Show a summary of the model. Check the number of trainable parameters\n",
    "model.summary()\n",
    "\n",
    "model.compile(optimizer=optimizers.RMSprop(lr=1e-4), loss='binary_crossentropy', metrics=['accuracy'])\n",
    "\n",
    "# Construct training image generator for data augmentation\n",
    "aug = ImageDataGenerator(rotation_range=20, zoom_range=0.15,width_shift_range=0.2, height_shift_range=0.2, \n",
    "                         shear_range=0.15,horizontal_flip=True, fill_mode=\"nearest\")\n",
    "\n",
    "# Train the network\n",
    "EPOCHS= 10\n",
    "BS = 64\n",
    "\n",
    "history = model.fit_generator(aug.flow(X_train, Y_train, batch_size=BS),validation_data=(X_test, Y_test), \n",
    "                    steps_per_epoch=len(X_train) // BS, epochs=EPOCHS)"
   ]
  },
  {
   "cell_type": "code",
   "execution_count": 4,
   "metadata": {},
   "outputs": [],
   "source": [
    "# Save model for testing\n",
    "model.save('Model_4d.h5')"
   ]
  }
 ],
 "metadata": {
  "kernelspec": {
   "display_name": "Python 3",
   "language": "python",
   "name": "python3"
  },
  "language_info": {
   "codemirror_mode": {
    "name": "ipython",
    "version": 3
   },
   "file_extension": ".py",
   "mimetype": "text/x-python",
   "name": "python",
   "nbconvert_exporter": "python",
   "pygments_lexer": "ipython3",
   "version": "3.10.2 (v3.10.2:a58ebcc701, Jan 13 2022, 14:50:16) [Clang 13.0.0 (clang-1300.0.29.30)]"
  },
  "vscode": {
   "interpreter": {
    "hash": "aee8b7b246df8f9039afb4144a1f6fd8d2ca17a180786b69acc140d282b71a49"
   }
  }
 },
 "nbformat": 4,
 "nbformat_minor": 4
}
