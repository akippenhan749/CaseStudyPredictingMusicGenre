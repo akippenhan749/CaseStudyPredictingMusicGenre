{
 "cells": [
  {
   "cell_type": "code",
   "execution_count": 1,
   "metadata": {},
   "outputs": [],
   "source": [
    "# Import packages\n",
    "import keras\n",
    "import pandas as pd \n",
    "import numpy as np \n",
    "from tqdm import tqdm\n",
    "from keras.preprocessing import image\n",
    "import matplotlib.pyplot as plt\n",
    "import cv2\n",
    "from PIL import Image\n",
    "from keras.models import load_model\n",
    "import pandas as pd\n",
    "import numpy as np\n",
    "import keras\n",
    "from keras.models import Sequential\n",
    "from keras.layers import Dense, Dropout, Flatten\n",
    "from keras.layers import Conv2D, MaxPooling2D\n",
    "from keras.callbacks import EarlyStopping\n",
    "from keras.callbacks import ModelCheckpoint\n",
    "from keras.preprocessing.image import ImageDataGenerator\n",
    "import tensorflow as tf\n",
    "from keras import models\n",
    "from keras import layers\n",
    "from keras import optimizers\n",
    "import sklearn\n",
    "from sklearn.model_selection import train_test_split\n",
    "from statistics import mean\n",
    "import unidecode"
   ]
  },
  {
   "cell_type": "code",
   "execution_count": 2,
   "metadata": {},
   "outputs": [],
   "source": [
    "def arrange_data(df):\n",
    "    \n",
    "    image_data = []\n",
    "    img_paths = np.asarray(df.iloc[:, 0]) #First column is the image paths\n",
    "    \n",
    "    for i in tqdm(range(len(img_paths))):\n",
    "    \n",
    "        img = tf.keras.utils.load_img(img_paths[i],target_size=(200,150,3))\n",
    "        img = tf.keras.utils.img_to_array(img)\n",
    "        img = img/255\n",
    "        image_data.append(img)\n",
    "        \n",
    "        \n",
    "    X = np.array(image_data)\n",
    "    Y = np.array(df.iloc[:,1:7])\n",
    "    \n",
    "    return X, Y"
   ]
  },
  {
   "cell_type": "code",
   "execution_count": 3,
   "metadata": {},
   "outputs": [],
   "source": [
    "# Load the model in\n",
    "model = load_model('Model_4d.h5')"
   ]
  },
  {
   "cell_type": "code",
   "execution_count": null,
   "metadata": {},
   "outputs": [],
   "source": [
    "test_df = pd.read_csv('INSERT_FILEPATH_HERE/testingData.csv')\n",
    "\n",
    "test_df['Image Path'] = test_df['Image Path'].str.replace('INSERT_FILEPATH_HERE','')\n",
    "test_df['Image Path'] = test_df['Image Path'].str.replace('/images','')\n",
    "\n",
    "X_test, Y_test = arrange_data(test_df)"
   ]
  },
  {
   "cell_type": "code",
   "execution_count": null,
   "metadata": {},
   "outputs": [],
   "source": [
    "# Make predictions\n",
    "pred = model.predict(np.array(X_test))\n",
    "\n",
    "# Choose highest probability as predicted genre\n",
    "pred_genre = np.zeros_like(pred)\n",
    "pred_genre[np.arange(len(pred)), pred.argmax(1)] = 1\n",
    "pred_genre=pred_genre.astype(int)"
   ]
  },
  {
   "cell_type": "code",
   "execution_count": null,
   "metadata": {},
   "outputs": [],
   "source": [
    "count = 0\n",
    "for i in range(0,len(pred_genre)-1):\n",
    "        if list(pred_genre[i]) == list(Y_test[i]):\n",
    "            count += 1\n",
    "        \n",
    "count/len(pred_genre) # accuracy"
   ]
  },
  {
   "cell_type": "code",
   "execution_count": 8,
   "metadata": {},
   "outputs": [],
   "source": [
    "pred_df = pd.DataFrame(pred_genre, columns = ['Pred Pop','Pred Hip Hop', 'Pred Country', 'Pred Jazz', 'Pred Rock', 'Pred Alternative'])\n",
    "\n",
    "full_df = test_df.join(pred_df)"
   ]
  },
  {
   "cell_type": "code",
   "execution_count": null,
   "metadata": {},
   "outputs": [],
   "source": [
    "full_df"
   ]
  },
  {
   "cell_type": "code",
   "execution_count": 15,
   "metadata": {},
   "outputs": [],
   "source": [
    "pop_acc = full_df[full_df['Pop']==1]['Pred Pop'].sum()/len(full_df[full_df['Pop']==1])\n",
    "hiphop_acc = full_df[full_df['Hip Hop']==1]['Pred Hip Hop'].sum()/len(full_df[full_df['Hip Hop']==1])\n",
    "country_acc = full_df[full_df['Country']==1]['Pred Country'].sum()/len(full_df[full_df['Country']==1])\n",
    "jazz_acc = full_df[full_df['Jazz']==1]['Pred Jazz'].sum()/len(full_df[full_df['Jazz']==1])\n",
    "rock_acc = full_df[full_df['Rock']==1]['Pred Rock'].sum()/len(full_df[full_df['Rock']==1])\n",
    "alt_acc = full_df[full_df['Alternative']==1]['Pred Alternative'].sum()/len(full_df[full_df['Alternative']==1])"
   ]
  },
  {
   "cell_type": "code",
   "execution_count": null,
   "metadata": {},
   "outputs": [],
   "source": [
    "print(pop_acc, hiphop_acc, country_acc, jazz_acc, rock_acc, alt_acc)"
   ]
  }
 ],
 "metadata": {
  "kernelspec": {
   "display_name": "Python 3",
   "language": "python",
   "name": "python3"
  },
  "language_info": {
   "codemirror_mode": {
    "name": "ipython",
    "version": 3
   },
   "file_extension": ".py",
   "mimetype": "text/x-python",
   "name": "python",
   "nbconvert_exporter": "python",
   "pygments_lexer": "ipython3",
   "version": "3.10.2 (v3.10.2:a58ebcc701, Jan 13 2022, 14:50:16) [Clang 13.0.0 (clang-1300.0.29.30)]"
  },
  "vscode": {
   "interpreter": {
    "hash": "aee8b7b246df8f9039afb4144a1f6fd8d2ca17a180786b69acc140d282b71a49"
   }
  }
 },
 "nbformat": 4,
 "nbformat_minor": 4
}
